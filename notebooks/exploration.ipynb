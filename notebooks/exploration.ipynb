{
 "cells": [
  {
   "cell_type": "code",
   "execution_count": null,
   "metadata": {},
   "outputs": [],
   "source": [
    "from clesto import *"
   ]
  },
  {
   "cell_type": "markdown",
   "metadata": {},
   "source": [
    "### Small examples"
   ]
  },
  {
   "cell_type": "code",
   "execution_count": null,
   "metadata": {},
   "outputs": [],
   "source": [
    "# for p in [2,3,5]:\n",
    "#     Module_element.default_torsion = p\n",
    "#     CyclicModule_element.default_order = p\n",
    "\n",
    "#     for d in range(6):\n",
    "#         e = CyclicModule_element({0:1})\n",
    "#         x = e.psi(d).phi().table_reduction() # using table reduction\n",
    "#         y = e.as_Surjection_element(d) # direct formula\n",
    "# #         print(f'p = {p} d = {d}')\n",
    "# #         print(x, '\\n')\n",
    "# #         print(y, '\\n')"
   ]
  },
  {
   "cell_type": "markdown",
   "metadata": {},
   "source": [
    "### Dyer-Lashof-Cohen basis\n",
    "\n",
    "Turchin and mine are not homologous"
   ]
  },
  {
   "cell_type": "code",
   "execution_count": null,
   "metadata": {},
   "outputs": [],
   "source": [
    "from itertools import combinations_with_replacement, permutations, combinations, product\n",
    "\n",
    "def symmetric_orbit(surj):\n",
    "    translation = {(1,2): (1,2,3), (1,3): (1,3,2), (2,1): (2,1,3),\n",
    "                   (2,3): (3,1,2), (3,1): (2,3,1), (3,2): (3,2,1)}\n",
    "    rep = Surjection_element(torsion=3)\n",
    "    for k, v in surj.items():\n",
    "        perm = SymmetricModule_element({translation[k[:2]]: 1}, torsion=surj.torsion)\n",
    "        new = perm * Surjection_element({k:v}, torsion=surj.torsion)\n",
    "        rep += new\n",
    "    return rep\n",
    "\n",
    "def sign_symmetric_orbit(surj):\n",
    "    translation = {(1,2): (1,2,3), (1,3): (1,3,2), (2,1): (2,1,3),\n",
    "                   (2,3): (3,1,2), (3,1): (2,3,1), (3,2): (3,2,1)}\n",
    "    sign = {(1,2): -1, (1,3): -1, (2,1): -1,\n",
    "            (2,3): 1, (3,1): +1, (3,2): -1}\n",
    "    rep = Surjection_element(torsion=3)\n",
    "    for k, v in surj.items():\n",
    "        perm = SymmetricModule_element({translation[k[:2]]: sign[k[:2]]}, torsion=surj.torsion)\n",
    "        new = perm * Surjection_element({k:v}, torsion=surj.torsion)\n",
    "        rep += new\n",
    "    return rep\n",
    "\n",
    "def boundary(surj):\n",
    "    '''...'''\n",
    "    sign = {0: 1, 1: -1}\n",
    "    bdry = Surjection_element(torsion=surj.torsion)\n",
    "    for spx, coeff in surj.items():\n",
    "        for i in range(len(spx)):\n",
    "            i_term = {tuple(spx[: i] + spx[i + 1:]): sign[i % 2] * coeff}\n",
    "            to_add = Surjection_element(i_term, torsion=surj.torsion)\n",
    "            bdry += to_add\n",
    "    bdry._reduce_rep()\n",
    "\n",
    "    return bdry\n",
    "\n",
    "def extra_reduce(surj, r=3):\n",
    "    return Surjection_element({k: v for k, v in surj.items() if set(k) == set(range(1, r+1))})\n",
    "\n",
    "def cyclic_orbit(surj):\n",
    "    pass\n",
    "\n",
    "def get_symmetric_basis():\n",
    "    basis = set()\n",
    "    for x in combinations_with_replacement((1,2,3), 5):\n",
    "        for y in permutations(x):\n",
    "            if set(y) == {1,2,3} and Surjection_element({y:1}):\n",
    "                basis.update(symmetric_orbit(Surjection_element({y:1}, torsion=3)))\n",
    "    return basis"
   ]
  },
  {
   "cell_type": "code",
   "execution_count": null,
   "metadata": {},
   "outputs": [],
   "source": [
    "def get_basis():\n",
    "    basis = set()\n",
    "    for x in combinations_with_replacement((1,2,3), 5):\n",
    "        for y in permutations(x):\n",
    "            if set(y) == {1,2,3} and Surjection_element({y:1}):\n",
    "                basis.update({set(Surjection_element({y:1}, torsion=3).keys()).pop()})\n",
    "    return basis"
   ]
  },
  {
   "cell_type": "code",
   "execution_count": null,
   "metadata": {},
   "outputs": [],
   "source": [
    "cyclic_basis = set()\n",
    "rho = {1:2, 2:3, 3:1}\n",
    "rho_sq = {1:3, 2:1, 3:2}\n",
    "for x in get_basis():\n",
    "    rho_x = tuple(rho[i] for i in x)\n",
    "    rho_sq_x = tuple(rho_sq[i] for i in x)\n",
    "    if not rho_x in cyclic_basis and not rho_sq_x in cyclic_basis:\n",
    "        cyclic_basis.update({x})\n",
    "\n",
    "# cyclic_basis"
   ]
  },
  {
   "cell_type": "code",
   "execution_count": null,
   "metadata": {},
   "outputs": [],
   "source": [
    "cycles = []\n",
    "basis = get_symmetric_basis()\n",
    "for coeff in product({0,1,2}, repeat=len(basis)):\n",
    "    candidate = Surjection_element({b: c for b, c in zip(basis, coeff)}, torsion=3)\n",
    "    if not extra_reduce(symmetric_orbit(candidate.boundary())):\n",
    "        cycles.append(candidate)\n",
    "        \n",
    "cycles_by_length = {}\n",
    "for i in range(len(basis)+1):\n",
    "    cycles_by_length[i] = [x for x in cycles if len(x) == i]        "
   ]
  },
  {
   "cell_type": "code",
   "execution_count": null,
   "metadata": {},
   "outputs": [],
   "source": [
    "cpxty = {(1, 2, 3, 2, 3):3, (1, 2, 1, 3, 1):2, (1, 2, 1, 2, 3):3, \n",
    "         (1, 2, 3, 1, 2):3, (1, 2, 1, 3, 2):3, (1, 2, 3, 2, 1):2, (1, 2, 3, 1, 3):3}\n",
    "\n",
    "def complexity(surj):\n",
    "    return max(cpxty[k] for k in surj.keys())"
   ]
  },
  {
   "cell_type": "code",
   "execution_count": null,
   "metadata": {},
   "outputs": [],
   "source": [
    "#print(list((k, len(v)) for k, v in cycles_by_length.items()))\n",
    "for cycle in cycles_by_length[2]:\n",
    "    if complexity == 2:\n",
    "        print(cycle)\n",
    "#     print(cycle.boundary())\n",
    "#     print(symmetric_orbit(cycle.boundary()))\n",
    "#     print(extra_reduce(symmetric_orbit(cycle.boundary())))"
   ]
  },
  {
   "cell_type": "code",
   "execution_count": null,
   "metadata": {},
   "outputs": [],
   "source": [
    "def boundary2(self):\n",
    "    '''...'''\n",
    "    sign = {0: 1, 1: -1}\n",
    "    bdry = type(self)().copy_attrs_from(self)\n",
    "    print(bdry.__dict__, 'bdry', bdry)\n",
    "    print('self', self.items())\n",
    "    for spx, coeff in self.items():\n",
    "        print(spx, len(spx), coeff)\n",
    "        for i in range(len(spx)):\n",
    "            i_term = {tuple(spx[: i] + spx[i + 1:]): sign[i % 2] * coeff}\n",
    "            print(i_term, 'iterm')\n",
    "            to_add = type(bdry)(i_term).copy_attrs_from(bdry)\n",
    "            print(type(to_add), repr(to_add))\n",
    "            bdry += to_add\n",
    "    bdry._reduce_rep()\n",
    "\n",
    "    return bdry\n",
    "\n",
    "# for a,b in product({0,1,2}, repeat=2):\n",
    "x = Surjection_element({(1, 2, 3, 2, 1):1, (1, 2, 1, 3, 0):b}, torsion='free')\n",
    "print(f'element = {x}', x.torsion)\n",
    "#print(f'its boundary = {boundary(x)}')\n",
    "print(f'its boundary = {boundary2(x)}\\n')\n",
    "#     print(f'its boundary square = {boundary(boundary(x))}\\n')\n",
    "#     print(f'orbit of its boundary = {symmetric_orbit(x.boundary())}')\n",
    "#     print(f'sign_orbit of its boundary = {sign_symmetric_orbit(x.boundary())}\\n')"
   ]
  },
  {
   "cell_type": "code",
   "execution_count": null,
   "metadata": {},
   "outputs": [],
   "source": [
    "Surjection_element.default_torsion\n",
    "# Surjection_element({(1, 3, 2, 1): -2})\n"
   ]
  },
  {
   "cell_type": "code",
   "execution_count": null,
   "metadata": {},
   "outputs": [],
   "source": [
    "a = Surjection_element({\n",
    "    (2,3,2,1):1, (1,3,2,1):2, (1,2,3,1):2, (1,2,3,2):1,\n",
    "    (2,1,3,1):1, (1,2,3,1):1, (1,2,1,3):1}, torsion=3)\n",
    "sign_symmetric_orbit(a)"
   ]
  },
  {
   "cell_type": "code",
   "execution_count": null,
   "metadata": {},
   "outputs": [],
   "source": [
    "x = Surjection_element({(1,2,1):1}, torsion=3)\n",
    "x.compose(x, 1)"
   ]
  },
  {
   "cell_type": "code",
   "execution_count": null,
   "metadata": {},
   "outputs": [],
   "source": [
    "x = Surjection_element({(1, 2, 3, 2, 1):1}, torsion=3)\n",
    "y = Surjection_element({(1, 2, 1, 3, 1):-1}, torsion=3)\n",
    "print(f'element = {x}')\n",
    "print(f'element = {y}')\n",
    "print(f'its boundary = {x.boundary()}')\n",
    "print(f'its boundary = {y.boundary()}')\n",
    "# print(f'orbit of its boundary = {symmetric_orbit(x.boundary())}\\n')\n",
    "print(x.boundary() + y.boundary())\n",
    "\n",
    "# (2,3,2,1) + (1,3,2,1) + 2(1,2,3,1) + (1,2,3,2) + (2,1,3,1) + (1,2,1,3)\n",
    "# (1,2,1,3) - (1,2,3,1) - (1,2,3,1) + (1,2,3,2) - (1,2,3,2) + (1,2,1,3)\n",
    "# (1,2,1,3) - (1,2,3,1) - (1,2,3,1) + (1,2,3,2) - (1,2,3,2) + (1,2,1,3)\n",
    "\n",
    "(2,3,2,1) + (1,3,2,1) + (1,2,3,2) + 2(2,1,3,1) + 2(1,2,1,3)\n",
    "(1,2,1,3) - (1,2,3,1) + (1,2,3,2) +  (1,2,3,2) -  (1,2,1,3)"
   ]
  },
  {
   "cell_type": "markdown",
   "metadata": {},
   "source": [
    "##### in degree 1 for p=3"
   ]
  },
  {
   "cell_type": "code",
   "execution_count": null,
   "metadata": {},
   "outputs": [],
   "source": [
    "for a, b, c in product({0,1,2}, repeat=3):\n",
    "    x = Surjection_element({(1, 2, 3, 1):a, (1, 2, 3, 2):b, (1,2,1,3):c}, torsion=3)\n",
    "    print(f'element = {x}')\n",
    "    print(f'its boundary = {x.boundary()}')\n",
    "    print(f'orbit of its boundary = {symmetric_orbit(x.boundary())}\\n')"
   ]
  },
  {
   "cell_type": "markdown",
   "metadata": {},
   "source": [
    "### Finding homotopy between $f = \\iota \\circ \\lambda_{\\#}$ and $g = \\gamma_{\\#} \\circ \\iota$"
   ]
  },
  {
   "cell_type": "code",
   "execution_count": null,
   "metadata": {},
   "outputs": [],
   "source": [
    "p = 3\n",
    "Module_element.default_torsion = p\n",
    "CyclicDGModule_element.default_order = p\n",
    "rho = CyclicModule_element({1:1}, order=p)\n",
    "\n",
    "def H(d):\n",
    "    H_dict = {0: CyclicDGModule_element(),\n",
    "              1: CyclicDGModule_element({(0,1,2): 1})}\n",
    "    return H_dict[d]\n",
    "\n",
    "def ie(d):\n",
    "    return CyclicModule_element({0:1}, order=p).psi(d)\n",
    "\n",
    "def f(d):\n",
    "    if d % 2 == 0:\n",
    "        return (2 ** int(d/2)) * ie(d)\n",
    "    if d % 2 == 1:\n",
    "        return (2 ** int((d-1)/2)) * (ie(d) + (rho(ie(d))))\n",
    "\n",
    "def g(d):\n",
    "    return CyclicDGModule_element({\n",
    "        tuple(2*i for i in key): v for key, v in ie(d).items()})\n",
    "\n",
    "\n",
    "n = 2\n",
    "# check, has to be 0\n",
    "# print(f(n) - g(n) - H(n).boundary())\n",
    "# search f - g - H \\partial\n",
    "y = f(n) - g(n) - (rho*rho)(H(n-1)) + H(n-1)\n",
    "print(- (rho*rho)(H(n-1)) + H(n-1))"
   ]
  },
  {
   "cell_type": "markdown",
   "metadata": {},
   "source": [
    "### Looking for homotopy $x_{2n} \\to 0$  "
   ]
  },
  {
   "cell_type": "code",
   "execution_count": null,
   "metadata": {},
   "outputs": [],
   "source": [
    "p = 3\n",
    "def x(d):\n",
    "    e = CyclicModule_element({0:1}).set_order(p)\n",
    "    x = e.psi(d).phi().set_torsion(p)\n",
    "    return x\n",
    "\n",
    "gamma = SymmetricModule_element({(2,1,3):1}, torsion=p)\n",
    "print(x(2))\n",
    "print(gamma * x(2))\n",
    "print(x(2) * gamma)"
   ]
  }
 ],
 "metadata": {
  "kernelspec": {
   "display_name": "Python 3",
   "language": "python",
   "name": "python3"
  },
  "language_info": {
   "codemirror_mode": {
    "name": "ipython",
    "version": 3
   },
   "file_extension": ".py",
   "mimetype": "text/x-python",
   "name": "python",
   "nbconvert_exporter": "python",
   "pygments_lexer": "ipython3",
   "version": "3.7.3"
  }
 },
 "nbformat": 4,
 "nbformat_minor": 2
}
