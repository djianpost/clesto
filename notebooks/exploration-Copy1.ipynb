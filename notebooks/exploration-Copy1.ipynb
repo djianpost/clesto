{
 "cells": [
  {
   "cell_type": "code",
   "execution_count": null,
   "metadata": {},
   "outputs": [],
   "source": [
    "from clesto import *"
   ]
  },
  {
   "cell_type": "markdown",
   "metadata": {},
   "source": [
    "### Dyer-Lashof-Cohen basis"
   ]
  },
  {
   "cell_type": "code",
   "execution_count": null,
   "metadata": {},
   "outputs": [],
   "source": [
    "from itertools import combinations, combinations_with_replacement, permutations, combinations, product, chain, tee\n",
    "from sympy.utilities.iterables import multiset_permutations\n",
    "from clesto import *\n",
    "\n",
    "def symmetric_orbit(surj):\n",
    "    translation = {(1,2): (1,2,3), (1,3): (1,3,2), (2,1): (2,1,3),\n",
    "                   (2,3): (3,1,2), (3,1): (2,3,1), (3,2): (3,2,1)}\n",
    "    rep = Surjection_element(torsion=3)\n",
    "    for k, v in surj.items():\n",
    "        perm = SymmetricModule_element({translation[k[:2]]: 1}, torsion=surj.torsion)\n",
    "        new = perm * Surjection_element({k:v}, torsion=surj.torsion)\n",
    "        rep += new\n",
    "    return rep\n",
    "\n",
    "def sign_symmetric_orbit(surj):\n",
    "    translation = {(1,2): (1,2,3), (1,3): (1,3,2), (2,1): (2,1,3),\n",
    "                   (2,3): (3,1,2), (3,1): (2,3,1), (3,2): (3,2,1)}\n",
    "    sign = {(1,2): -1, (1,3): -1, (2,1): -1,\n",
    "            (2,3): 1, (3,1): +1, (3,2): -1}\n",
    "    rep = Surjection_element(torsion=3)\n",
    "    for k, v in surj.items():\n",
    "        perm = SymmetricModule_element({translation[k[:2]]: sign[k[:2]]}, torsion=surj.torsion)\n",
    "        new = perm * Surjection_element({k:v}, torsion=surj.torsion)\n",
    "        rep += new\n",
    "    return rep\n",
    "\n",
    "def boundary(surj):\n",
    "    '''...'''\n",
    "    sign = {0: 1, 1: -1}\n",
    "    bdry = Surjection_element(torsion=surj.torsion)\n",
    "    for spx, coeff in surj.items():\n",
    "        for i in range(len(spx)):\n",
    "            i_term = {tuple(spx[: i] + spx[i + 1:]): sign[i % 2] * coeff}\n",
    "            to_add = Surjection_element(i_term, torsion=surj.torsion)\n",
    "            bdry += to_add\n",
    "    bdry._reduce_rep()\n",
    "\n",
    "    return bdry\n",
    "\n",
    "def extra_reduce(surj, r=3):\n",
    "    return Surjection_element({k: v for k, v in surj.items() if set(k) == set(range(1, r+1))})\n",
    "\n",
    "def cyclic_orbit(surj):\n",
    "    pass\n",
    "\n",
    "def get_symmetric_basis():\n",
    "    basis = set()\n",
    "    for x in combinations_with_replacement((1,2,3), 5):\n",
    "        for y in permutations(x):\n",
    "            if set(y) == {1,2,3} and Surjection_element({y:1}):\n",
    "                basis.update(symmetric_orbit(Surjection_element({y:1}, torsion=3)))\n",
    "    return basis\n",
    "\n",
    "def pairwise(iterable):\n",
    "    \"s -> (s0,s1), (s1,s2), (s2, s3), ...\"\n",
    "    a, b = tee(iterable)\n",
    "    next(b, None)\n",
    "    return zip(a, b)\n",
    "\n",
    "def get_basis(r, n, torsion='free'):\n",
    "    basis = []\n",
    "    surjections = (chain.from_iterable(multiset_permutations(y) \n",
    "        for y in combinations_with_replacement(range(1, r+1), r+n)))\n",
    "    for s in surjections:\n",
    "        if all([i != j for i, j in pairwise(s)]) and set(s) == set(range(1, r+1)):\n",
    "#             yield Surjection_element({tuple(s):1}, torsion=torsion)\n",
    "            yield tuple(s)"
   ]
  },
  {
   "cell_type": "code",
   "execution_count": null,
   "metadata": {},
   "outputs": [],
   "source": [
    "def _phi(i, j, permutation):\n",
    "    a, b = permutation.index(i), permutation.index(j)\n",
    "    if a < b:\n",
    "        return (1, 2)\n",
    "    else:\n",
    "        return (2, 1)\n",
    "        \n",
    "def phi(i, j, permutations):\n",
    "    return tuple(_phi(i, j, p) for p in permutations)\n",
    "\n",
    "basis_sigma_3 = set(permutations(range(1,4), 3))\n",
    "admissible = set(combinations(basis_sigma_3, 2))\n",
    "admissible = {x for x in admissible if phi(1, 2, x) == ((1,2), (2,1)) or not BarrattEccles_element({phi(1, 2, x):1})}\n",
    "admissible = {x for x in admissible if phi(2, 3, x) == ((1,2), (2,1)) or not BarrattEccles_element({phi(2, 3, x):1})}\n",
    "admissible = {x for x in admissible if phi(1, 3, x) == ((1,2), (2,1)) or not BarrattEccles_element({phi(1, 3, x):1})}\n",
    "cell = BarrattEccles_element({t:1 for t in admissible}, torsion=3)\n",
    "cell.table_reduction()"
   ]
  },
  {
   "cell_type": "code",
   "execution_count": null,
   "metadata": {},
   "outputs": [],
   "source": [
    "basis_sigma_3 = set(permutations(range(1,4), 3))\n",
    "admissible = set(combinations(basis_sigma_3, 3))\n",
    "\n",
    "admissible = {x for x in admissible if not BarrattEccles_element({phi(1, 2, x):1})}\n",
    "admissible = {x for x in admissible if not BarrattEccles_element({phi(2, 3, x):1})}\n",
    "admissible = {x for x in admissible if not BarrattEccles_element({phi(1, 3, x):1})}\n",
    "cell = BarrattEccles_element({t:1 for t in admissible}, torsion=3)\n",
    "cell.table_reduction()"
   ]
  }
 ],
 "metadata": {
  "kernelspec": {
   "display_name": "Python 3",
   "language": "python",
   "name": "python3"
  },
  "language_info": {
   "codemirror_mode": {
    "name": "ipython",
    "version": 3
   },
   "file_extension": ".py",
   "mimetype": "text/x-python",
   "name": "python",
   "nbconvert_exporter": "python",
   "pygments_lexer": "ipython3",
   "version": "3.7.3"
  }
 },
 "nbformat": 4,
 "nbformat_minor": 2
}
